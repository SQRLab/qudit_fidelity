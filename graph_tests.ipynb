{
 "cells": [
  {
   "cell_type": "code",
   "execution_count": 3,
   "metadata": {},
   "outputs": [],
   "source": [
    "import numpy as np \n",
    "import random as rd \n",
    "import matplotlib.pyplot as plt\n",
    "from collections import defaultdict"
   ]
  },
  {
   "cell_type": "code",
   "execution_count": 2,
   "metadata": {},
   "outputs": [],
   "source": [
    "def dfs(graph, v, visited):\n",
    "    visited = True\n",
    "    for i in range(len(graph[v])):\n",
    "        neighbour = graph[v][i]\n",
    "        if not visited[neighbour]:\n",
    "            dfs(graph, neighbour)"
   ]
  },
  {
   "cell_type": "code",
   "execution_count": null,
   "metadata": {},
   "outputs": [],
   "source": [
    "def convert_from_matrix_to_list(G):\n",
    "    adjacency_list = defaultdict(list)\n",
    "    for i in range(len(G)):\n",
    "        for j in range(len(G)[0]):\n",
    "            if G[i][j] == 1: \n",
    "                adjacency_list.append((i, j))"
   ]
  },
  {
   "cell_type": "code",
   "execution_count": null,
   "metadata": {},
   "outputs": [],
   "source": [
    "def is_connected(G):\n",
    "    \"\"\" \n",
    "    checks if a graph is connected\n",
    "    \"\"\"\n",
    "    vertices = list(G.keys())\n",
    "    adjacency_list = list(G.values())\n",
    "    visited = [False] * len(vertices)\n",
    "\n",
    "    # starting the dfs from the first vertex \n",
    "    dfs(G, vertices[0], visited)\n",
    "\n",
    "    connected = True \n",
    "    for i in range(len(visited)):\n",
    "        if not visited[i]:\n",
    "            connected = False\n",
    "            break\n",
    "\n",
    "    return connected"
   ]
  }
 ],
 "metadata": {
  "kernelspec": {
   "display_name": "Python 3",
   "language": "python",
   "name": "python3"
  },
  "language_info": {
   "codemirror_mode": {
    "name": "ipython",
    "version": 3
   },
   "file_extension": ".py",
   "mimetype": "text/x-python",
   "name": "python",
   "nbconvert_exporter": "python",
   "pygments_lexer": "ipython3",
   "version": "3.10.8"
  }
 },
 "nbformat": 4,
 "nbformat_minor": 2
}
