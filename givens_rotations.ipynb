{
 "cells": [
  {
   "cell_type": "code",
   "execution_count": 2,
   "metadata": {},
   "outputs": [],
   "source": [
    "import qutip as qt\n",
    "import numpy as np\n",
    "import seaborn as sns\n",
    "from collections import deque\n",
    "import cmath as cm"
   ]
  },
  {
   "cell_type": "code",
   "execution_count": 3,
   "metadata": {},
   "outputs": [],
   "source": [
    "def find_shortest_path(connectivity_graph: np.ndarray, start_node, end_node):\n",
    "    \"\"\"\n",
    "    Given a connectivity graph, find the shortest path between two nodes via breadth-first search.\n",
    "    \"\"\"\n",
    "    m, n = connectivity_graph.shape\n",
    "    if start_node < 0 or start_node >= m or end_node < 0 or end_node >= n:\n",
    "        raise ValueError(\"Start or end node is out of bounds.\")\n",
    "\n",
    "    visited_nodes = set()\n",
    "    queue = deque([(start_node, [start_node])]) # (node, path)\n",
    "\n",
    "    while queue:\n",
    "        current_node, path = queue.popleft()\n",
    "\n",
    "        if current_node == end_node:\n",
    "            return path \n",
    "        \n",
    "        if current_node not in visited_nodes:\n",
    "            visited_nodes.add(current_node)\n",
    "            neighbors = [i for i in range(n) if connectivity_graph[current_node, i] == 1]\n",
    "\n",
    "            for neighbor in neighbors:\n",
    "                if neighbor not in visited_nodes:\n",
    "                    queue.append((neighbor, path + [neighbor]))\n",
    "    return -1, [] # no path found"
   ]
  },
  {
   "cell_type": "code",
   "execution_count": 4,
   "metadata": {},
   "outputs": [
    {
     "name": "stdout",
     "output_type": "stream",
     "text": [
      "[0, 1, 3]\n"
     ]
    }
   ],
   "source": [
    "matrix = [\n",
    "    [0, 1, 0, 0, 0],\n",
    "    [1, 0, 1, 1, 0],\n",
    "    [0, 1, 0, 0, 1],\n",
    "    [0, 1, 0, 0, 1],\n",
    "    [0, 0, 1, 1, 0]\n",
    "]\n",
    "print(find_shortest_path(np.array(matrix), 0, 3))"
   ]
  },
  {
   "cell_type": "code",
   "execution_count": 5,
   "metadata": {},
   "outputs": [],
   "source": [
    "def decompose_givens_matrix(Q_i: np.ndarray, connectivity_graph: np.ndarray, path: np.ndarray, levels: tuple):\n",
    "    \"\"\"\n",
    "    Given a Givens rotation matrix Q_i, check if said decomposition is possible given the connectivity graph, and \n",
    "    if not return the appropriate decomposition via using additional swap gates. \n",
    "    \"\"\"\n",
    "    m, _ = connectivity_graph.shape\n",
    "    c, s = Q_i[levels[0], levels[0]], Q_i[levels[1], levels[0]]\n",
    "    G_i = np.eye(m).astype(complex)\n",
    "    allowed_decompositions = []\n",
    "    \n",
    "    if path == -1:\n",
    "        raise ValueError(\"No path found between start and end nodes.\")\n",
    "    else: \n",
    "        # write a swap matrix (pauli-x) for each pair of nodes except for the last 2 nodes in the path\n",
    "        for i in range(len(path) - 2):\n",
    "            swap_matrix = np.eye(m)\n",
    "            swap_matrix[path[i], path[i]] = 0\n",
    "            swap_matrix[path[i+1], path[i+1]] = 0\n",
    "            swap_matrix[path[i], path[i+1]] = 1\n",
    "            swap_matrix[path[i+1], path[i]] = 1\n",
    "            allowed_decompositions.append(swap_matrix)\n",
    "\n",
    "        '''\n",
    "        slightly alter the Q_i so as to be a rotation between the second last and last nodes in the path \n",
    "        while keeping the same form as that of original givens rotation\n",
    "        '''\n",
    "        x, y = len(path) - 2, len(path) - 1\n",
    "        G_i[path[x], path[x]], G_i[path[y], path[y]] = c, c\n",
    "        G_i[path[x], path[y]], G_i[path[y], path[x]] = s, -s\n",
    "        allowed_decompositions.append(G_i)\n",
    "\n",
    "        # return the intermediate swap states back to their original form\n",
    "        for i in range(len(path) - 2, 0, -1):\n",
    "            swap_matrix = np.eye(m)\n",
    "            swap_matrix[path[i], path[i]] = 0\n",
    "            swap_matrix[path[i-1], path[i-1]] = 0\n",
    "            swap_matrix[path[i], path[i-1]] = 1\n",
    "            swap_matrix[path[i-1], path[i]] = 1\n",
    "            allowed_decompositions.append(swap_matrix)\n",
    "        \n",
    "        return allowed_decompositions"
   ]
  },
  {
   "cell_type": "code",
   "execution_count": 6,
   "metadata": {},
   "outputs": [
    {
     "name": "stdout",
     "output_type": "stream",
     "text": [
      "[1, 3, 2]\n",
      "[1, 3, 4, 2]\n"
     ]
    }
   ],
   "source": [
    "# sample givens rotation matrix \n",
    "G_12 = np.array([\n",
    "    [1, 0, 0, 0, 0],\n",
    "    [0, 0.8, 0.6, 0, 0],\n",
    "    [0, -0.6, 0.8, 0, 0],\n",
    "    [0, 0, 0, 1, 0],\n",
    "    [0, 0, 0, 0, 1]\n",
    "])\n",
    "# first connectivity graph, we want 1 -> 3 -> 2 \n",
    "matrix_1 = np.array([\n",
    "    [0, 1, 0, 0, 0],\n",
    "    [1, 0, 0, 1, 0],\n",
    "    [0, 0, 0, 1, 0],\n",
    "    [0, 0, 1, 0, 1],\n",
    "    [0, 0, 0, 1, 0]\n",
    "])\n",
    "\n",
    "# second connectivity graph, we want 1 -> 3 -> 4 -> 2\n",
    "matrix2 = np.array([\n",
    "    [0, 1, 0, 0, 0],\n",
    "    [1, 0, 0, 1, 0],\n",
    "    [0, 0, 0, 0, 1],\n",
    "    [0, 0, 0, 0, 1],\n",
    "    [0, 0, 1, 0, 0]\n",
    "])\n",
    "\n",
    "path_1 = find_shortest_path(matrix_1, 1, 2)\n",
    "path_2 = find_shortest_path(matrix2, 1, 2)\n",
    "print(path_1)\n",
    "print(path_2)"
   ]
  },
  {
   "cell_type": "code",
   "execution_count": 7,
   "metadata": {},
   "outputs": [
    {
     "name": "stdout",
     "output_type": "stream",
     "text": [
      "[[ 1. +0.j  0. +0.j  0. +0.j  0. +0.j  0. +0.j]\n",
      " [ 0. +0.j  0.8+0.j  0.6+0.j  0. +0.j  0. +0.j]\n",
      " [ 0. +0.j -0.6+0.j  0.8+0.j  0. +0.j  0. +0.j]\n",
      " [ 0. +0.j  0. +0.j  0. +0.j  1. +0.j  0. +0.j]\n",
      " [ 0. +0.j  0. +0.j  0. +0.j  0. +0.j  1. +0.j]]\n"
     ]
    }
   ],
   "source": [
    "# decompose the givens matrix into a series of swap gates for the first connectivity graph\n",
    "rotations_1 = decompose_givens_matrix(G_12, matrix_1, path_1, (1, 2))\n",
    "recovered_G12_path1 = np.eye(5)\n",
    "for rotation in rotations_1:\n",
    "    recovered_G12_path1 = rotation @ recovered_G12_path1\n",
    "print(recovered_G12_path1.T)"
   ]
  },
  {
   "cell_type": "code",
   "execution_count": 8,
   "metadata": {},
   "outputs": [
    {
     "name": "stdout",
     "output_type": "stream",
     "text": [
      "[[ 1. +0.j  0. +0.j  0. +0.j  0. +0.j  0. +0.j]\n",
      " [ 0. +0.j  0.8+0.j  0.6+0.j  0. +0.j  0. +0.j]\n",
      " [ 0. +0.j -0.6+0.j  0.8+0.j  0. +0.j  0. +0.j]\n",
      " [ 0. +0.j  0. +0.j  0. +0.j  1. +0.j  0. +0.j]\n",
      " [ 0. +0.j  0. +0.j  0. +0.j  0. +0.j  1. +0.j]]\n"
     ]
    }
   ],
   "source": [
    "# decompose the givens matrix into a series of swap gates for the second connectivity graph\n",
    "rotations_2 = decompose_givens_matrix(G_12, matrix2, path_2, (1, 2))\n",
    "recovered_G12_path2 = np.eye(5)\n",
    "for rotation in rotations_2:\n",
    "    recovered_G12_path2 = rotation @ recovered_G12_path2\n",
    "print(recovered_G12_path2.T)"
   ]
  },
  {
   "cell_type": "code",
   "execution_count": 9,
   "metadata": {},
   "outputs": [
    {
     "name": "stdout",
     "output_type": "stream",
     "text": [
      "True\n",
      "True\n"
     ]
    }
   ],
   "source": [
    "# check if the decomposed givens matrix is the same as the original givens matrix\n",
    "print(np.allclose(G_12, recovered_G12_path1.T))\n",
    "print(np.allclose(G_12, recovered_G12_path2.T))"
   ]
  },
  {
   "cell_type": "code",
   "execution_count": 10,
   "metadata": {},
   "outputs": [],
   "source": [
    "def decompose_phase_matrix(R: np.ndarray):\n",
    "    \"\"\"\n",
    "    Given a phase matrix R, decompose it into a product of phase gates (this assumption only holds for unitary starting matrices)\n",
    "    \"\"\"\n",
    "    phase_gates = []\n",
    "    for i in range(len(R)):\n",
    "        phase_gate = np.eye(len(R)).astype(complex)\n",
    "        phase_gate[i, i] = R[i, i]\n",
    "        phase_gates.append(phase_gate)\n",
    "    return phase_gates"
   ]
  },
  {
   "cell_type": "code",
   "execution_count": 11,
   "metadata": {},
   "outputs": [
    {
     "name": "stdout",
     "output_type": "stream",
     "text": [
      "True\n"
     ]
    }
   ],
   "source": [
    "# testing the decomposition of a diagonal matrix into a product of phase gates\n",
    "phase_matrix = np.diag([1, 1, 1, cm.exp(1j * np.pi / 4)])\n",
    "recovered_matrix = np.eye(4) \n",
    "for gate in decompose_phase_matrix(phase_matrix):\n",
    "    recovered_matrix = gate @ recovered_matrix\n",
    "print(np.allclose(phase_matrix, recovered_matrix))"
   ]
  },
  {
   "cell_type": "code",
   "execution_count": 12,
   "metadata": {},
   "outputs": [],
   "source": [
    "def qr_decomposition(M, connectivity_graph: np.ndarray):\n",
    "    \"\"\"\n",
    "    Given a square matrix M, return the QR decomposition via Givens rotations.\n",
    "    \"\"\"\n",
    "    m, n = M.shape\n",
    "    # make a complex copy of M\n",
    "    Q = np.eye(m).astype(complex)\n",
    "    R = M.copy().astype(complex)\n",
    "    givens_matrices = []\n",
    "\n",
    "    # iterate over lower triangular entries\n",
    "    (rows, columns) = np.tril_indices(m, -1, n)\n",
    "    for i, j in zip(rows, columns):\n",
    "        # obtaining the givens parameters\n",
    "        c, s = 1, 0\n",
    "        if M[i, j] != 0:\n",
    "            r = cm.sqrt(M[i, j]**2 + M[j, j]**2)\n",
    "            c, s = M[j, j]/r, -M[i, j]/r\n",
    "\n",
    "        # generating the actual givens rotation matrix\n",
    "        G = np.eye(m).astype(complex)\n",
    "        G[[i, j], [i, j]] = c\n",
    "        G[i, j] = s\n",
    "        G[j, i] = -s\n",
    "\n",
    "        path = find_shortest_path(connectivity_graph, i, j)\n",
    "        if not np.allclose(G, np.eye(m)):\n",
    "            if len(path) == 1:\n",
    "                givens_matrices.append(G)\n",
    "            else:\n",
    "                givens_matrices.extend(decompose_givens_matrix(G, connectivity_graph, path, (i, j)))\n",
    "\n",
    "        # updating Q and R\n",
    "        Q = np.dot(Q, G.T)\n",
    "        R = np.dot(G, R)\n",
    "\n",
    "    return givens_matrices, Q, R"
   ]
  },
  {
   "cell_type": "code",
   "execution_count": 13,
   "metadata": {},
   "outputs": [
    {
     "name": "stdout",
     "output_type": "stream",
     "text": [
      "True\n"
     ]
    }
   ],
   "source": [
    "U_4 = qt.Qobj(qt.rand_unitary(4))\n",
    "givens_matrices, Q, R = qr_decomposition(U_4.full(), np.array(matrix))\n",
    "print(np.allclose(np.dot(Q, R), U_4.full()))"
   ]
  },
  {
   "cell_type": "code",
   "execution_count": 14,
   "metadata": {},
   "outputs": [],
   "source": [
    "sns.set_theme(style=\"darkgrid\")"
   ]
  },
  {
   "cell_type": "code",
   "execution_count": 15,
   "metadata": {},
   "outputs": [],
   "source": [
    "# make a plot of the length of the decomposition vs dimension of the via seaborn \n",
    "# this is assuming that the connectivity graph is a complete graph\n",
    "def plot_results_wrt_dimension(connectivity_graph: np.ndarray, dimensions: np.ndarray, graph_type: str):\n",
    "    lengths = []\n",
    "    for dim in dimensions:\n",
    "        U = qt.Qobj(qt.rand_unitary(dim))\n",
    "        givens_matrices, _, R = qr_decomposition(U.full(), connectivity_graph)\n",
    "        phase_gates = decompose_phase_matrix(R)\n",
    "        lengths.append(len(givens_matrices) + len(phase_gates))\n",
    "    plot = sns.scatterplot(x=dimensions, y=lengths)\n",
    "    plot.set(xlabel=\"Dimension\", ylabel=\"Length of decomposition\")"
   ]
  },
  {
   "cell_type": "code",
   "execution_count": 16,
   "metadata": {},
   "outputs": [],
   "source": [
    "def plot_results_wrt_connectivity_graph(connectivity_graphs: list, dimension: int):\n",
    "    lengths = []\n",
    "    for graph in connectivity_graphs:\n",
    "        U = qt.Qobj(qt.rand_unitary(dimension))\n",
    "        givens_matrices, _, R = qr_decomposition(U.full(), graph)\n",
    "        phase_gates = decompose_phase_matrix(R)\n",
    "        lengths.append(len(givens_matrices) + len(phase_gates))\n",
    "    sns.set_theme(style=\"darkgrid\", font=\"montserrat\", font_scale=0.9)\n",
    "    plot = sns.scatterplot(x=range(len(connectivity_graphs)), y=lengths)\n",
    "    plot.set(xlabel=\"Connectivity graph\", ylabel=\"Length of decomposition\")"
   ]
  },
  {
   "cell_type": "code",
   "execution_count": 17,
   "metadata": {},
   "outputs": [],
   "source": [
    "complete_graph = np.ones((5, 5)) - np.eye(5)\n",
    "potential_trapped_ion_graph = np.array([\n",
    "    [0, 1, 1, 1, 1], \n",
    "    [1, 0, 1, 0, 1], \n",
    "    [1, 1, 0, 0, 0], \n",
    "    [1, 0, 0, 0, 1], \n",
    "    [1, 1, 0, 1, 0]\n",
    "])\n",
    "current_trapped_ion_graph = np.array([\n",
    "    [0, 1, 1, 1, 1],\n",
    "    [1, 0, 0, 0, 0], \n",
    "    [1, 0, 0, 0, 0], \n",
    "    [1, 0, 0, 0, 0], \n",
    "    [1, 0, 0, 0, 0]\n",
    "])\n",
    "superconducting_graph = np.array([\n",
    "    [0, 1, 0, 0, 1], \n",
    "    [1, 0, 0, 0, 0], \n",
    "    [0, 0, 0, 1, 0], \n",
    "    [0, 0, 1, 0, 1],\n",
    "    [1, 0, 0, 1, 0]\n",
    "])\n",
    "connectivity_graphs = [complete_graph, potential_trapped_ion_graph, current_trapped_ion_graph, superconducting_graph]\n",
    "# plot_results_wrt_connectivity_graph(connectivity_graphs, 5)"
   ]
  },
  {
   "cell_type": "code",
   "execution_count": 29,
   "metadata": {},
   "outputs": [
    {
     "data": {
      "image/png": "[encoded data removed]",
      "text/plain": [
       "<Figure size 432x288 with 1 Axes>"
      ]
     },
     "metadata": {},
     "output_type": "display_data"
    }
   ],
   "source": [
    "num_trials = 100\n",
    "colors = [\"#1f77b4\", \"#ff7f0e\", \"#2ca02c\", \"#d62728\"]\n",
    "graph_type = [\"complete\", \"potential_trapped_ion\", \"current_trapped_ion\", \"superconducting\"]\n",
    "unitaries = [np.array(qt.Qobj(qt.rand_unitary(5))) for _ in range(num_trials)]\n",
    "# unitaries = [np.random.randint(5, size=(5, 5)) for _ in range(num_trials)]\n",
    "epsilon = 1e-1\n",
    "# snapping values that are close to 0 to be identically 0\n",
    "for random_unitary in unitaries:\n",
    "    for i in range(len(random_unitary)):\n",
    "        for j in range(len(random_unitary)):\n",
    "            if cm.isclose(random_unitary[i, j], 0, abs_tol=epsilon):\n",
    "                random_unitary[i, j] = 0\n",
    "\n",
    "for i, graph in enumerate(connectivity_graphs):\n",
    "    lengths = []\n",
    "    for random_unitary in unitaries:\n",
    "        givens_matrices, _, R = qr_decomposition(random_unitary.astype(complex), graph)\n",
    "        phase_gates = decompose_phase_matrix(R)\n",
    "        lengths.append(len(givens_matrices) + len(phase_gates))\n",
    "    sns.set_theme(style=\"darkgrid\", font=\"montserrat\")\n",
    "    plot = sns.histplot(lengths, color=colors[i], label=graph_type[i], bins = range(10, 35, 2))\n",
    "    # make x-axis finer \n",
    "    plot.set(xticks=range(10, 35, 2))\n",
    "    plot.set(xlabel=\"Length of decomposition\", ylabel=\"Frequency\")\n",
    "    plot.legend()"
   ]
  },
  {
   "cell_type": "code",
   "execution_count": 72,
   "metadata": {},
   "outputs": [
    {
     "name": "stdout",
     "output_type": "stream",
     "text": [
      "False\n",
      "[[0.63460645 0.37319003 0.07865416 0.18175589 0.16030006]\n",
      " [0.         0.55207517 0.46849047 0.98671149 0.14682796]\n",
      " [0.         0.9869826  0.71372947 0.12207208 0.16351305]\n",
      " [0.12497293 0.63673612 0.81513145 0.48155083 0.60152702]\n",
      " [0.13812336 0.29310208 0.90598936 0.12487136 0.67456774]]\n"
     ]
    }
   ],
   "source": [
    "random_orthornormal = np.random.rand(5, 5)\n",
    "random_ortho1 = np.random.rand(5, 5)\n",
    "random_orthornormal[1, 0] = 0\n",
    "random_orthornormal[2, 0] = 0\n",
    "print(np.allclose(random_ortho1, random_orthornormal))\n",
    "print(random_orthornormal)"
   ]
  },
  {
   "cell_type": "code",
   "execution_count": 182,
   "metadata": {},
   "outputs": [
    {
     "name": "stdout",
     "output_type": "stream",
     "text": [
      "20\n",
      "22\n"
     ]
    }
   ],
   "source": [
    "ortho, _, _ = qr_decomposition(random_orthornormal, connectivity_graphs[2])\n",
    "ortho1, _, _ = qr_decomposition(random_ortho1, connectivity_graphs[2])\n",
    "print(len(ortho))\n",
    "print(len(ortho1))"
   ]
  }
 ],
 "metadata": {
  "kernelspec": {
   "display_name": "Python 3",
   "language": "python",
   "name": "python3"
  },
  "language_info": {
   "codemirror_mode": {
    "name": "ipython",
    "version": 3
   },
   "file_extension": ".py",
   "mimetype": "text/x-python",
   "name": "python",
   "nbconvert_exporter": "python",
   "pygments_lexer": "ipython3",
   "version": "3.9.12"
  }
 },
 "nbformat": 4,
 "nbformat_minor": 2
}
